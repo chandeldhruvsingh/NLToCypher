{
 "cells": [
  {
   "cell_type": "code",
   "execution_count": 8,
   "id": "c1ae5385",
   "metadata": {},
   "outputs": [
    {
     "name": "stdout",
     "output_type": "stream",
     "text": [
      "Collecting ctransformers\n",
      "  Downloading ctransformers-0.2.27-py3-none-any.whl (9.9 MB)\n",
      "\u001b[2K     \u001b[90m━━━━━━━━━━━━━━━━━━━━━━━━━━━━━━━━━━━━━━━━\u001b[0m \u001b[32m9.9/9.9 MB\u001b[0m \u001b[31m30.2 MB/s\u001b[0m eta \u001b[36m0:00:00\u001b[0m00:01\u001b[0m00:01\u001b[0m\n",
      "\u001b[?25hRequirement already satisfied: huggingface-hub in /Users/dhruvchandel/opt/anaconda3/lib/python3.9/site-packages (from ctransformers) (0.24.3)\n",
      "Collecting py-cpuinfo<10.0.0,>=9.0.0\n",
      "  Downloading py_cpuinfo-9.0.0-py3-none-any.whl (22 kB)\n",
      "Requirement already satisfied: typing-extensions>=3.7.4.3 in /Users/dhruvchandel/opt/anaconda3/lib/python3.9/site-packages (from huggingface-hub->ctransformers) (4.12.2)\n",
      "Requirement already satisfied: packaging>=20.9 in /Users/dhruvchandel/opt/anaconda3/lib/python3.9/site-packages (from huggingface-hub->ctransformers) (23.2)\n",
      "Requirement already satisfied: filelock in /Users/dhruvchandel/opt/anaconda3/lib/python3.9/site-packages (from huggingface-hub->ctransformers) (3.13.1)\n",
      "Requirement already satisfied: tqdm>=4.42.1 in /Users/dhruvchandel/opt/anaconda3/lib/python3.9/site-packages (from huggingface-hub->ctransformers) (4.64.1)\n",
      "Requirement already satisfied: requests in /Users/dhruvchandel/opt/anaconda3/lib/python3.9/site-packages (from huggingface-hub->ctransformers) (2.31.0)\n",
      "Requirement already satisfied: fsspec>=2023.5.0 in /Users/dhruvchandel/opt/anaconda3/lib/python3.9/site-packages (from huggingface-hub->ctransformers) (2024.6.1)\n",
      "Requirement already satisfied: pyyaml>=5.1 in /Users/dhruvchandel/opt/anaconda3/lib/python3.9/site-packages (from huggingface-hub->ctransformers) (6.0)\n",
      "Requirement already satisfied: idna<4,>=2.5 in /Users/dhruvchandel/opt/anaconda3/lib/python3.9/site-packages (from requests->huggingface-hub->ctransformers) (3.3)\n",
      "Requirement already satisfied: certifi>=2017.4.17 in /Users/dhruvchandel/opt/anaconda3/lib/python3.9/site-packages (from requests->huggingface-hub->ctransformers) (2022.9.24)\n",
      "Requirement already satisfied: charset-normalizer<4,>=2 in /Users/dhruvchandel/opt/anaconda3/lib/python3.9/site-packages (from requests->huggingface-hub->ctransformers) (2.0.4)\n",
      "Requirement already satisfied: urllib3<3,>=1.21.1 in /Users/dhruvchandel/opt/anaconda3/lib/python3.9/site-packages (from requests->huggingface-hub->ctransformers) (1.26.11)\n",
      "Installing collected packages: py-cpuinfo, ctransformers\n",
      "Successfully installed ctransformers-0.2.27 py-cpuinfo-9.0.0\n"
     ]
    }
   ],
   "source": [
    "!pip install ctransformers"
   ]
  },
  {
   "cell_type": "code",
   "execution_count": 2,
   "id": "379c75e2",
   "metadata": {},
   "outputs": [],
   "source": [
    "from neo4j import GraphDatabase\n",
    "\n",
    "uri = \"neo4j+s://46a80122.databases.neo4j.io:7687\"\n",
    "user = \"neo4j\"\n",
    "password = \"abcde777\"\n",
    "\n",
    "driver = GraphDatabase.driver(uri, auth=(user, password))\n",
    "\n",
    "\n"
   ]
  },
  {
   "cell_type": "code",
   "execution_count": 3,
   "id": "f6ddbb7c",
   "metadata": {},
   "outputs": [],
   "source": [
    "def get_schema():\n",
    "    with driver.session() as session:\n",
    "        # Query node labels\n",
    "        labels = session.run(\"CALL db.labels()\").data()\n",
    "        \n",
    "        # Query relationship types\n",
    "        relationships = session.run(\"CALL db.relationshipTypes()\").data()\n",
    "        \n",
    "        # Query property keys\n",
    "        properties = session.run(\"CALL db.propertyKeys()\").data()\n",
    "        \n",
    "        # Get more detailed node information\n",
    "        node_info = session.run(\"\"\"\n",
    "        MATCH (n)\n",
    "        WITH DISTINCT labels(n) AS labels, keys(n) AS properties\n",
    "        RETURN labels, properties\n",
    "        \"\"\").data()\n",
    "        \n",
    "        # Get more detailed relationship information\n",
    "        rel_info = session.run(\"\"\"\n",
    "        MATCH ()-[r]->()\n",
    "        WITH DISTINCT type(r) AS type, keys(r) AS properties\n",
    "        RETURN type, properties\n",
    "        \"\"\").data()\n",
    "        \n",
    "        return {\n",
    "            \"labels\": [label[\"label\"] for label in labels],\n",
    "            \"relationships\": [rel[\"relationshipType\"] for rel in relationships],\n",
    "            \"properties\": [prop[\"propertyKey\"] for prop in properties],\n",
    "            \"node_details\": node_info,\n",
    "            \"relationship_details\": rel_info\n",
    "        }\n",
    "\n",
    "\n"
   ]
  },
  {
   "cell_type": "code",
   "execution_count": 4,
   "id": "b12c456d",
   "metadata": {},
   "outputs": [
    {
     "name": "stdout",
     "output_type": "stream",
     "text": [
      "{'labels': ['Article', 'Code', 'Dataset', 'Software Application'], 'relationships': ['uses', 'provides', 'cites'], 'properties': ['id', 'data', 'name', 'nodes', 'relationships', 'style', 'visualisation', 'url', 'creativeWorkType', 'metadata_url'], 'node_details': [{'labels': ['Article'], 'properties': ['id', 'name', 'url', 'creativeWorkType', 'metadata_url']}, {'labels': ['Code'], 'properties': ['id', 'name', 'url', 'creativeWorkType', 'metadata_url']}, {'labels': ['Dataset'], 'properties': ['id', 'name', 'url', 'creativeWorkType', 'metadata_url']}, {'labels': ['Software Application'], 'properties': ['id', 'name', 'url', 'creativeWorkType', 'metadata_url']}], 'relationship_details': [{'type': 'uses', 'properties': []}, {'type': 'provides', 'properties': []}, {'type': 'cites', 'properties': []}]}\n"
     ]
    }
   ],
   "source": [
    "# Get the schema\n",
    "schema = get_schema()\n",
    "print(schema)\n",
    "\n"
   ]
  },
  {
   "cell_type": "code",
   "execution_count": 5,
   "id": "b30ad9d7",
   "metadata": {},
   "outputs": [],
   "source": [
    "# Don't forget to close the driver when you're done\n",
    "driver.close()"
   ]
  },
  {
   "cell_type": "code",
   "execution_count": 6,
   "id": "43dc5b70",
   "metadata": {},
   "outputs": [
    {
     "name": "stdout",
     "output_type": "stream",
     "text": [
      "Database Schema:\n",
      "\n",
      "Node Labels: Article, Code, Dataset, Software Application\n",
      "\n",
      "Relationship Types: uses, provides, cites\n",
      "\n",
      "Properties: id, data, name, nodes, relationships, style, visualisation, url, creativeWorkType, metadata_url\n",
      "\n",
      "Node Details:\n",
      "  Labels: Article\n",
      "  Properties: id, name, url, creativeWorkType, metadata_url\n",
      "\n",
      "  Labels: Code\n",
      "  Properties: id, name, url, creativeWorkType, metadata_url\n",
      "\n",
      "  Labels: Dataset\n",
      "  Properties: id, name, url, creativeWorkType, metadata_url\n",
      "\n",
      "  Labels: Software Application\n",
      "  Properties: id, name, url, creativeWorkType, metadata_url\n",
      "\n",
      "Relationship Details:\n",
      "  Type: uses\n",
      "  Properties: \n",
      "\n",
      "  Type: provides\n",
      "  Properties: \n",
      "\n",
      "  Type: cites\n",
      "  Properties: \n",
      "\n",
      "\n"
     ]
    }
   ],
   "source": [
    "def schema_to_text(schema):\n",
    "    text = \"Database Schema:\\n\\n\"\n",
    "    text += \"Node Labels: \" + \", \".join(schema[\"labels\"]) + \"\\n\\n\"\n",
    "    text += \"Relationship Types: \" + \", \".join(schema[\"relationships\"]) + \"\\n\\n\"\n",
    "    text += \"Properties: \" + \", \".join(schema[\"properties\"]) + \"\\n\\n\"\n",
    "    \n",
    "    text += \"Node Details:\\n\"\n",
    "    for node in schema[\"node_details\"]:\n",
    "        text += f\"  Labels: {', '.join(node['labels'])}\\n\"\n",
    "        text += f\"  Properties: {', '.join(node['properties'])}\\n\\n\"\n",
    "    \n",
    "    text += \"Relationship Details:\\n\"\n",
    "    for rel in schema[\"relationship_details\"]:\n",
    "        text += f\"  Type: {rel['type']}\\n\"\n",
    "        text += f\"  Properties: {', '.join(rel['properties'])}\\n\\n\"\n",
    "    \n",
    "    return text\n",
    "\n",
    "schema_text = schema_to_text(schema)\n",
    "print(schema_text)"
   ]
  },
  {
   "cell_type": "code",
   "execution_count": 9,
   "id": "e64e03ed",
   "metadata": {},
   "outputs": [
    {
     "data": {
      "application/vnd.jupyter.widget-view+json": {
       "model_id": "788678af6a8644aab7674abcfb01e0a2",
       "version_major": 2,
       "version_minor": 0
      },
      "text/plain": [
       "Fetching 1 files:   0%|          | 0/1 [00:00<?, ?it/s]"
      ]
     },
     "metadata": {},
     "output_type": "display_data"
    },
    {
     "data": {
      "application/vnd.jupyter.widget-view+json": {
       "model_id": "29da324333c4469db00d8a4df2bb1697",
       "version_major": 2,
       "version_minor": 0
      },
      "text/plain": [
       "Fetching 0 files: 0it [00:00, ?it/s]"
      ]
     },
     "metadata": {},
     "output_type": "display_data"
    },
    {
     "ename": "ValueError",
     "evalue": "Model file 'model.gguf' not found in '/Users/dhruvchandel/.cache/huggingface/hub/models--tomasonjo--text2cypher-demo-4bit-gguf/snapshots/456e5259ec3ef29946b0853ff76503bed8e5f331'",
     "output_type": "error",
     "traceback": [
      "\u001b[0;31m---------------------------------------------------------------------------\u001b[0m",
      "\u001b[0;31mValueError\u001b[0m                                Traceback (most recent call last)",
      "\u001b[0;32m/var/folders/pn/xnnk13ln3kq4x3pf22lwzj0m0000gn/T/ipykernel_40151/205688083.py\u001b[0m in \u001b[0;36m<module>\u001b[0;34m\u001b[0m\n\u001b[1;32m      1\u001b[0m \u001b[0;32mfrom\u001b[0m \u001b[0mctransformers\u001b[0m \u001b[0;32mimport\u001b[0m \u001b[0mAutoModelForCausalLM\u001b[0m\u001b[0;34m\u001b[0m\u001b[0;34m\u001b[0m\u001b[0m\n\u001b[1;32m      2\u001b[0m \u001b[0;34m\u001b[0m\u001b[0m\n\u001b[0;32m----> 3\u001b[0;31m model = AutoModelForCausalLM.from_pretrained(\n\u001b[0m\u001b[1;32m      4\u001b[0m     \u001b[0;34m\"tomasonjo/text2cypher-demo-4bit-gguf\"\u001b[0m\u001b[0;34m,\u001b[0m\u001b[0;34m\u001b[0m\u001b[0;34m\u001b[0m\u001b[0m\n\u001b[1;32m      5\u001b[0m     \u001b[0mmodel_file\u001b[0m\u001b[0;34m=\u001b[0m\u001b[0;34m\"model.gguf\"\u001b[0m\u001b[0;34m,\u001b[0m\u001b[0;34m\u001b[0m\u001b[0;34m\u001b[0m\u001b[0m\n",
      "\u001b[0;32m~/opt/anaconda3/lib/python3.9/site-packages/ctransformers/hub.py\u001b[0m in \u001b[0;36mfrom_pretrained\u001b[0;34m(cls, model_path_or_repo_id, model_type, model_file, config, lib, local_files_only, revision, hf, **kwargs)\u001b[0m\n\u001b[1;32m    166\u001b[0m             )\n\u001b[1;32m    167\u001b[0m         \u001b[0;32melif\u001b[0m \u001b[0mpath_type\u001b[0m \u001b[0;34m==\u001b[0m \u001b[0;34m\"repo\"\u001b[0m\u001b[0;34m:\u001b[0m\u001b[0;34m\u001b[0m\u001b[0;34m\u001b[0m\u001b[0m\n\u001b[0;32m--> 168\u001b[0;31m             model_path = cls._find_model_path_from_repo(\n\u001b[0m\u001b[1;32m    169\u001b[0m                 \u001b[0mmodel_path_or_repo_id\u001b[0m\u001b[0;34m,\u001b[0m\u001b[0;34m\u001b[0m\u001b[0;34m\u001b[0m\u001b[0m\n\u001b[1;32m    170\u001b[0m                 \u001b[0mmodel_file\u001b[0m\u001b[0;34m,\u001b[0m\u001b[0;34m\u001b[0m\u001b[0;34m\u001b[0m\u001b[0m\n",
      "\u001b[0;32m~/opt/anaconda3/lib/python3.9/site-packages/ctransformers/hub.py\u001b[0m in \u001b[0;36m_find_model_path_from_repo\u001b[0;34m(cls, repo_id, filename, local_files_only, revision)\u001b[0m\n\u001b[1;32m    207\u001b[0m             \u001b[0mrevision\u001b[0m\u001b[0;34m=\u001b[0m\u001b[0mrevision\u001b[0m\u001b[0;34m,\u001b[0m\u001b[0;34m\u001b[0m\u001b[0;34m\u001b[0m\u001b[0m\n\u001b[1;32m    208\u001b[0m         )\n\u001b[0;32m--> 209\u001b[0;31m         \u001b[0;32mreturn\u001b[0m \u001b[0mcls\u001b[0m\u001b[0;34m.\u001b[0m\u001b[0m_find_model_path_from_dir\u001b[0m\u001b[0;34m(\u001b[0m\u001b[0mpath\u001b[0m\u001b[0;34m,\u001b[0m \u001b[0mfilename\u001b[0m\u001b[0;34m=\u001b[0m\u001b[0mfilename\u001b[0m\u001b[0;34m)\u001b[0m\u001b[0;34m\u001b[0m\u001b[0;34m\u001b[0m\u001b[0m\n\u001b[0m\u001b[1;32m    210\u001b[0m \u001b[0;34m\u001b[0m\u001b[0m\n\u001b[1;32m    211\u001b[0m     \u001b[0;34m@\u001b[0m\u001b[0mclassmethod\u001b[0m\u001b[0;34m\u001b[0m\u001b[0;34m\u001b[0m\u001b[0m\n",
      "\u001b[0;32m~/opt/anaconda3/lib/python3.9/site-packages/ctransformers/hub.py\u001b[0m in \u001b[0;36m_find_model_path_from_dir\u001b[0;34m(cls, path, filename)\u001b[0m\n\u001b[1;32m    240\u001b[0m             \u001b[0mfile\u001b[0m \u001b[0;34m=\u001b[0m \u001b[0;34m(\u001b[0m\u001b[0mpath\u001b[0m \u001b[0;34m/\u001b[0m \u001b[0mfilename\u001b[0m\u001b[0;34m)\u001b[0m\u001b[0;34m.\u001b[0m\u001b[0mresolve\u001b[0m\u001b[0;34m(\u001b[0m\u001b[0;34m)\u001b[0m\u001b[0;34m\u001b[0m\u001b[0;34m\u001b[0m\u001b[0m\n\u001b[1;32m    241\u001b[0m             \u001b[0;32mif\u001b[0m \u001b[0;32mnot\u001b[0m \u001b[0mfile\u001b[0m\u001b[0;34m.\u001b[0m\u001b[0mis_file\u001b[0m\u001b[0;34m(\u001b[0m\u001b[0;34m)\u001b[0m\u001b[0;34m:\u001b[0m\u001b[0;34m\u001b[0m\u001b[0;34m\u001b[0m\u001b[0m\n\u001b[0;32m--> 242\u001b[0;31m                 \u001b[0;32mraise\u001b[0m \u001b[0mValueError\u001b[0m\u001b[0;34m(\u001b[0m\u001b[0;34mf\"Model file '{filename}' not found in '{path}'\"\u001b[0m\u001b[0;34m)\u001b[0m\u001b[0;34m\u001b[0m\u001b[0;34m\u001b[0m\u001b[0m\n\u001b[0m\u001b[1;32m    243\u001b[0m             \u001b[0;32mreturn\u001b[0m \u001b[0mstr\u001b[0m\u001b[0;34m(\u001b[0m\u001b[0mfile\u001b[0m\u001b[0;34m)\u001b[0m\u001b[0;34m\u001b[0m\u001b[0;34m\u001b[0m\u001b[0m\n\u001b[1;32m    244\u001b[0m \u001b[0;34m\u001b[0m\u001b[0m\n",
      "\u001b[0;31mValueError\u001b[0m: Model file 'model.gguf' not found in '/Users/dhruvchandel/.cache/huggingface/hub/models--tomasonjo--text2cypher-demo-4bit-gguf/snapshots/456e5259ec3ef29946b0853ff76503bed8e5f331'"
     ]
    }
   ],
   "source": [
    "from ctransformers import AutoModelForCausalLM\n",
    "\n",
    "model = AutoModelForCausalLM.from_pretrained(\n",
    "    \"tomasonjo/text2cypher-demo-4bit-gguf\",\n",
    "    model_file=\"model.gguf\",\n",
    "    model_type=\"llama\"\n",
    ")"
   ]
  },
  {
   "cell_type": "code",
   "execution_count": null,
   "id": "dc48ba7c",
   "metadata": {},
   "outputs": [],
   "source": []
  }
 ],
 "metadata": {
  "kernelspec": {
   "display_name": "Python 3 (ipykernel)",
   "language": "python",
   "name": "python3"
  },
  "language_info": {
   "codemirror_mode": {
    "name": "ipython",
    "version": 3
   },
   "file_extension": ".py",
   "mimetype": "text/x-python",
   "name": "python",
   "nbconvert_exporter": "python",
   "pygments_lexer": "ipython3",
   "version": "3.9.13"
  }
 },
 "nbformat": 4,
 "nbformat_minor": 5
}
