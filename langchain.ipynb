{
 "cells": [
  {
   "cell_type": "code",
   "execution_count": 1,
   "id": "9bb2e63f",
   "metadata": {},
   "outputs": [],
   "source": [
    "import os\n",
    "import subprocess\n",
    "\n",
    "export OPENAI_API_KEY='sk-proj-jFW17o1Vdj95gtWuFsvXT3BlbkFJhpcUyLWCiC6RAen0Q6d3'\n",
    "export NEO4J_URI='neo4j+s://46a80122.databases.neo4j.io'\n",
    "export NEO4J_USERNAME='neo4j'\n",
    "export NEO4J_PASSWORD='abcde777'\n"
   ]
  },
  {
   "cell_type": "code",
   "execution_count": 2,
   "id": "1b5146b9",
   "metadata": {},
   "outputs": [
    {
     "name": "stdout",
     "output_type": "stream",
     "text": [
      "Would you like to install these templates into your environment with pip? [y/N]: Adding https://github.com/langchain-ai/langchain.git@master...\n",
      " - Downloaded templates/neo4j-cypher-ft to neo4j-cypher-ft\n",
      "Running: pip install -e \\\n",
      "  my-app/packages/neo4j-cypher-ft\n",
      "Obtaining file:///Users/dhruvchandel/Thesis/my-app/packages/neo4j-cypher-ft\n",
      "  Installing build dependencies ... \u001b[?25ldone\n",
      "\u001b[?25h  Checking if build backend supports build_editable ... \u001b[?25ldone\n",
      "\u001b[?25h  Getting requirements to build editable ... \u001b[?25ldone\n",
      "\u001b[?25h  Preparing editable metadata (pyproject.toml) ... \u001b[?25ldone\n",
      "\u001b[?25hRequirement already satisfied: langchain-community<0.0.34,>=0.0.33 in /Users/dhruvchandel/opt/anaconda3/lib/python3.9/site-packages (from neo4j-cypher-ft==0.1.0) (0.0.33)\n",
      "Requirement already satisfied: langchain-openai<0.2.0,>=0.1.3 in /Users/dhruvchandel/opt/anaconda3/lib/python3.9/site-packages (from neo4j-cypher-ft==0.1.0) (0.1.7)\n",
      "Requirement already satisfied: langchain<0.2,>=0.1 in /Users/dhruvchandel/opt/anaconda3/lib/python3.9/site-packages (from neo4j-cypher-ft==0.1.0) (0.1.16)\n",
      "Requirement already satisfied: neo4j>5.12 in /Users/dhruvchandel/opt/anaconda3/lib/python3.9/site-packages (from neo4j-cypher-ft==0.1.0) (5.22.0)\n",
      "Requirement already satisfied: openai<2 in /Users/dhruvchandel/opt/anaconda3/lib/python3.9/site-packages (from neo4j-cypher-ft==0.1.0) (1.35.8)\n",
      "Requirement already satisfied: langsmith<0.2.0,>=0.1.17 in /Users/dhruvchandel/opt/anaconda3/lib/python3.9/site-packages (from langchain<0.2,>=0.1->neo4j-cypher-ft==0.1.0) (0.1.83)\n",
      "Requirement already satisfied: langchain-text-splitters<0.1,>=0.0.1 in /Users/dhruvchandel/opt/anaconda3/lib/python3.9/site-packages (from langchain<0.2,>=0.1->neo4j-cypher-ft==0.1.0) (0.0.2)\n",
      "Requirement already satisfied: requests<3,>=2 in /Users/dhruvchandel/opt/anaconda3/lib/python3.9/site-packages (from langchain<0.2,>=0.1->neo4j-cypher-ft==0.1.0) (2.31.0)\n",
      "Requirement already satisfied: aiohttp<4.0.0,>=3.8.3 in /Users/dhruvchandel/opt/anaconda3/lib/python3.9/site-packages (from langchain<0.2,>=0.1->neo4j-cypher-ft==0.1.0) (3.8.5)\n",
      "Requirement already satisfied: numpy<2,>=1 in /Users/dhruvchandel/opt/anaconda3/lib/python3.9/site-packages (from langchain<0.2,>=0.1->neo4j-cypher-ft==0.1.0) (1.24.3)\n",
      "Requirement already satisfied: tenacity<9.0.0,>=8.1.0 in /Users/dhruvchandel/opt/anaconda3/lib/python3.9/site-packages (from langchain<0.2,>=0.1->neo4j-cypher-ft==0.1.0) (8.4.2)\n",
      "Requirement already satisfied: jsonpatch<2.0,>=1.33 in /Users/dhruvchandel/opt/anaconda3/lib/python3.9/site-packages (from langchain<0.2,>=0.1->neo4j-cypher-ft==0.1.0) (1.33)\n",
      "Requirement already satisfied: async-timeout<5.0.0,>=4.0.0 in /Users/dhruvchandel/opt/anaconda3/lib/python3.9/site-packages (from langchain<0.2,>=0.1->neo4j-cypher-ft==0.1.0) (4.0.3)\n",
      "Requirement already satisfied: SQLAlchemy<3,>=1.4 in /Users/dhruvchandel/opt/anaconda3/lib/python3.9/site-packages (from langchain<0.2,>=0.1->neo4j-cypher-ft==0.1.0) (1.4.39)\n",
      "Requirement already satisfied: PyYAML>=5.3 in /Users/dhruvchandel/opt/anaconda3/lib/python3.9/site-packages (from langchain<0.2,>=0.1->neo4j-cypher-ft==0.1.0) (6.0)\n",
      "Requirement already satisfied: langchain-core<0.2.0,>=0.1.42 in /Users/dhruvchandel/opt/anaconda3/lib/python3.9/site-packages (from langchain<0.2,>=0.1->neo4j-cypher-ft==0.1.0) (0.1.52)\n",
      "Requirement already satisfied: pydantic<3,>=1 in /Users/dhruvchandel/opt/anaconda3/lib/python3.9/site-packages (from langchain<0.2,>=0.1->neo4j-cypher-ft==0.1.0) (2.8.0)\n",
      "Requirement already satisfied: dataclasses-json<0.7,>=0.5.7 in /Users/dhruvchandel/opt/anaconda3/lib/python3.9/site-packages (from langchain<0.2,>=0.1->neo4j-cypher-ft==0.1.0) (0.6.7)\n",
      "Requirement already satisfied: tiktoken<1,>=0.7 in /Users/dhruvchandel/opt/anaconda3/lib/python3.9/site-packages (from langchain-openai<0.2.0,>=0.1.3->neo4j-cypher-ft==0.1.0) (0.7.0)\n",
      "Requirement already satisfied: pytz in /Users/dhruvchandel/opt/anaconda3/lib/python3.9/site-packages (from neo4j>5.12->neo4j-cypher-ft==0.1.0) (2023.3)\n",
      "Requirement already satisfied: httpx<1,>=0.23.0 in /Users/dhruvchandel/opt/anaconda3/lib/python3.9/site-packages (from openai<2->neo4j-cypher-ft==0.1.0) (0.27.0)\n",
      "Requirement already satisfied: sniffio in /Users/dhruvchandel/opt/anaconda3/lib/python3.9/site-packages (from openai<2->neo4j-cypher-ft==0.1.0) (1.2.0)\n",
      "Requirement already satisfied: tqdm>4 in /Users/dhruvchandel/opt/anaconda3/lib/python3.9/site-packages (from openai<2->neo4j-cypher-ft==0.1.0) (4.64.1)\n",
      "Requirement already satisfied: typing-extensions<5,>=4.7 in /Users/dhruvchandel/opt/anaconda3/lib/python3.9/site-packages (from openai<2->neo4j-cypher-ft==0.1.0) (4.12.2)\n",
      "Requirement already satisfied: distro<2,>=1.7.0 in /Users/dhruvchandel/opt/anaconda3/lib/python3.9/site-packages (from openai<2->neo4j-cypher-ft==0.1.0) (1.9.0)\n",
      "Requirement already satisfied: anyio<5,>=3.5.0 in /Users/dhruvchandel/opt/anaconda3/lib/python3.9/site-packages (from openai<2->neo4j-cypher-ft==0.1.0) (3.5.0)\n",
      "Requirement already satisfied: multidict<7.0,>=4.5 in /Users/dhruvchandel/opt/anaconda3/lib/python3.9/site-packages (from aiohttp<4.0.0,>=3.8.3->langchain<0.2,>=0.1->neo4j-cypher-ft==0.1.0) (6.0.4)\n",
      "Requirement already satisfied: attrs>=17.3.0 in /Users/dhruvchandel/opt/anaconda3/lib/python3.9/site-packages (from aiohttp<4.0.0,>=3.8.3->langchain<0.2,>=0.1->neo4j-cypher-ft==0.1.0) (21.4.0)\n",
      "Requirement already satisfied: aiosignal>=1.1.2 in /Users/dhruvchandel/opt/anaconda3/lib/python3.9/site-packages (from aiohttp<4.0.0,>=3.8.3->langchain<0.2,>=0.1->neo4j-cypher-ft==0.1.0) (1.3.1)\n",
      "Requirement already satisfied: yarl<2.0,>=1.0 in /Users/dhruvchandel/opt/anaconda3/lib/python3.9/site-packages (from aiohttp<4.0.0,>=3.8.3->langchain<0.2,>=0.1->neo4j-cypher-ft==0.1.0) (1.9.2)\n",
      "Requirement already satisfied: charset-normalizer<4.0,>=2.0 in /Users/dhruvchandel/opt/anaconda3/lib/python3.9/site-packages (from aiohttp<4.0.0,>=3.8.3->langchain<0.2,>=0.1->neo4j-cypher-ft==0.1.0) (2.0.4)\n",
      "Requirement already satisfied: frozenlist>=1.1.1 in /Users/dhruvchandel/opt/anaconda3/lib/python3.9/site-packages (from aiohttp<4.0.0,>=3.8.3->langchain<0.2,>=0.1->neo4j-cypher-ft==0.1.0) (1.4.0)\n",
      "Requirement already satisfied: idna>=2.8 in /Users/dhruvchandel/opt/anaconda3/lib/python3.9/site-packages (from anyio<5,>=3.5.0->openai<2->neo4j-cypher-ft==0.1.0) (3.3)\n",
      "Requirement already satisfied: typing-inspect<1,>=0.4.0 in /Users/dhruvchandel/opt/anaconda3/lib/python3.9/site-packages (from dataclasses-json<0.7,>=0.5.7->langchain<0.2,>=0.1->neo4j-cypher-ft==0.1.0) (0.9.0)\n",
      "Requirement already satisfied: marshmallow<4.0.0,>=3.18.0 in /Users/dhruvchandel/opt/anaconda3/lib/python3.9/site-packages (from dataclasses-json<0.7,>=0.5.7->langchain<0.2,>=0.1->neo4j-cypher-ft==0.1.0) (3.20.1)\n",
      "Requirement already satisfied: certifi in /Users/dhruvchandel/opt/anaconda3/lib/python3.9/site-packages (from httpx<1,>=0.23.0->openai<2->neo4j-cypher-ft==0.1.0) (2022.9.24)\n",
      "Requirement already satisfied: httpcore==1.* in /Users/dhruvchandel/opt/anaconda3/lib/python3.9/site-packages (from httpx<1,>=0.23.0->openai<2->neo4j-cypher-ft==0.1.0) (1.0.5)\n",
      "Requirement already satisfied: h11<0.15,>=0.13 in /Users/dhruvchandel/opt/anaconda3/lib/python3.9/site-packages (from httpcore==1.*->httpx<1,>=0.23.0->openai<2->neo4j-cypher-ft==0.1.0) (0.14.0)\n",
      "Requirement already satisfied: jsonpointer>=1.9 in /Users/dhruvchandel/opt/anaconda3/lib/python3.9/site-packages (from jsonpatch<2.0,>=1.33->langchain<0.2,>=0.1->neo4j-cypher-ft==0.1.0) (3.0.0)\n",
      "Requirement already satisfied: packaging<24.0,>=23.2 in /Users/dhruvchandel/opt/anaconda3/lib/python3.9/site-packages (from langchain-core<0.2.0,>=0.1.42->langchain<0.2,>=0.1->neo4j-cypher-ft==0.1.0) (23.2)\n",
      "Requirement already satisfied: orjson<4.0.0,>=3.9.14 in /Users/dhruvchandel/opt/anaconda3/lib/python3.9/site-packages (from langsmith<0.2.0,>=0.1.17->langchain<0.2,>=0.1->neo4j-cypher-ft==0.1.0) (3.10.5)\n",
      "Requirement already satisfied: annotated-types>=0.4.0 in /Users/dhruvchandel/opt/anaconda3/lib/python3.9/site-packages (from pydantic<3,>=1->langchain<0.2,>=0.1->neo4j-cypher-ft==0.1.0) (0.7.0)\n",
      "Requirement already satisfied: pydantic-core==2.20.0 in /Users/dhruvchandel/opt/anaconda3/lib/python3.9/site-packages (from pydantic<3,>=1->langchain<0.2,>=0.1->neo4j-cypher-ft==0.1.0) (2.20.0)\n",
      "Requirement already satisfied: urllib3<3,>=1.21.1 in /Users/dhruvchandel/opt/anaconda3/lib/python3.9/site-packages (from requests<3,>=2->langchain<0.2,>=0.1->neo4j-cypher-ft==0.1.0) (1.26.11)\n"
     ]
    },
    {
     "name": "stdout",
     "output_type": "stream",
     "text": [
      "Requirement already satisfied: greenlet!=0.4.17 in /Users/dhruvchandel/opt/anaconda3/lib/python3.9/site-packages (from SQLAlchemy<3,>=1.4->langchain<0.2,>=0.1->neo4j-cypher-ft==0.1.0) (1.1.1)\n",
      "Requirement already satisfied: regex>=2022.1.18 in /Users/dhruvchandel/opt/anaconda3/lib/python3.9/site-packages (from tiktoken<1,>=0.7->langchain-openai<0.2.0,>=0.1.3->neo4j-cypher-ft==0.1.0) (2022.7.9)\n",
      "Requirement already satisfied: mypy-extensions>=0.3.0 in /Users/dhruvchandel/opt/anaconda3/lib/python3.9/site-packages (from typing-inspect<1,>=0.4.0->dataclasses-json<0.7,>=0.5.7->langchain<0.2,>=0.1->neo4j-cypher-ft==0.1.0) (0.4.3)\n",
      "Building wheels for collected packages: neo4j-cypher-ft\n",
      "  Building editable for neo4j-cypher-ft (pyproject.toml) ... \u001b[?25ldone\n",
      "\u001b[?25h  Created wheel for neo4j-cypher-ft: filename=neo4j_cypher_ft-0.1.0-py3-none-any.whl size=2570 sha256=0d95b3b9ff265a0871dfe8e6e426e02812c2ad863c67dd0e895408e08c0be371\n",
      "  Stored in directory: /private/var/folders/pn/xnnk13ln3kq4x3pf22lwzj0m0000gn/T/pip-ephem-wheel-cache-v7j8f975/wheels/9f/b7/fa/c1437c1936262d31b9f2c857d5a12aaf7bf2f4947ba0bb54d5\n",
      "Successfully built neo4j-cypher-ft\n",
      "Installing collected packages: neo4j-cypher-ft\n",
      "  Attempting uninstall: neo4j-cypher-ft\n",
      "    Found existing installation: neo4j-cypher-ft 0.1.0\n",
      "    Uninstalling neo4j-cypher-ft-0.1.0:\n",
      "      Successfully uninstalled neo4j-cypher-ft-0.1.0\n",
      "Successfully installed neo4j-cypher-ft-0.1.0\n",
      "\n",
      "To use this template, add the following to your app:\n",
      "\n",
      "```\n",
      "\n",
      "from neo4j_cypher_ft import chain as neo4j_cypher_ft_chain\n",
      "\n",
      "add_routes(app, neo4j_cypher_ft_chain, path=\"/neo4j-cypher-ft\")\n",
      "```\n",
      "\n",
      "\n",
      "Success! Created a new LangChain app under \"./my-app\"!\n",
      "\n",
      "\n",
      "Next, enter your new app directory by running:\n",
      "\n",
      "    cd ./my-app\n",
      "\n",
      "Then add templates with commands like:\n",
      "\n",
      "    langchain app add extraction-openai-functions\n",
      "    langchain app add git+ssh://git@github.com/efriis/simple-pirate.git\n",
      "\n",
      "\n",
      "yes: stdout: Broken pipe\n"
     ]
    }
   ],
   "source": [
    "# Install necessary packages and automatically respond 'y' to prompts\n",
    "!yes | langchain app new my-app --package neo4j-cypher-ft\n"
   ]
  },
  {
   "cell_type": "code",
   "execution_count": 4,
   "id": "6954f35e",
   "metadata": {},
   "outputs": [],
   "source": [
    "# Step 4: Create server.py file\n",
    "server_py_content = \"\"\"\n",
    "from neo4j_cypher_ft import chain as neo4j_cypher_ft_chain\n",
    "from langserve import add_routes\n",
    "from fastapi import FastAPI\n",
    "\n",
    "app = FastAPI()\n",
    "\n",
    "add_routes(app, neo4j_cypher_ft_chain, path=\"/neo4j-cypher-ft\")\n",
    "\n",
    "if __name__ == \"__main__\":\n",
    "    import uvicorn\n",
    "    uvicorn.run(app, host=\"0.0.0.0\", port=8000)\n",
    "\"\"\"\n",
    "with open(\"my-app/server.py\", \"w\") as file:\n",
    "    file.write(server_py_content)"
   ]
  },
  {
   "cell_type": "code",
   "execution_count": 6,
   "id": "a852ac44",
   "metadata": {},
   "outputs": [
    {
     "data": {
      "text/plain": [
       "<Popen: returncode: None args: ['langchain', 'serve']>"
      ]
     },
     "execution_count": 6,
     "metadata": {},
     "output_type": "execute_result"
    },
    {
     "name": "stderr",
     "output_type": "stream",
     "text": [
      "INFO:     Will watch for changes in these directories: ['/Users/dhruvchandel/Thesis/my-app']\n",
      "INFO:     Uvicorn running on http://127.0.0.1:8000 (Press CTRL+C to quit)\n",
      "INFO:     Started reloader process [27090] using StatReload\n",
      "Process SpawnProcess-1:\n",
      "Traceback (most recent call last):\n",
      "  File \"/Users/dhruvchandel/opt/anaconda3/lib/python3.9/multiprocessing/process.py\", line 315, in _bootstrap\n",
      "    self.run()\n",
      "  File \"/Users/dhruvchandel/opt/anaconda3/lib/python3.9/multiprocessing/process.py\", line 108, in run\n",
      "    self._target(*self._args, **self._kwargs)\n",
      "  File \"/Users/dhruvchandel/opt/anaconda3/lib/python3.9/site-packages/uvicorn/_subprocess.py\", line 76, in subprocess_started\n",
      "    target(sockets=sockets)\n",
      "  File \"/Users/dhruvchandel/opt/anaconda3/lib/python3.9/site-packages/uvicorn/server.py\", line 61, in run\n",
      "    return asyncio.run(self.serve(sockets=sockets))\n",
      "  File \"/Users/dhruvchandel/opt/anaconda3/lib/python3.9/asyncio/runners.py\", line 44, in run\n",
      "    return loop.run_until_complete(main)\n",
      "  File \"/Users/dhruvchandel/opt/anaconda3/lib/python3.9/asyncio/base_events.py\", line 647, in run_until_complete\n",
      "    return future.result()\n",
      "  File \"/Users/dhruvchandel/opt/anaconda3/lib/python3.9/site-packages/uvicorn/server.py\", line 68, in serve\n",
      "    config.load()\n",
      "  File \"/Users/dhruvchandel/opt/anaconda3/lib/python3.9/site-packages/uvicorn/config.py\", line 467, in load\n",
      "    self.loaded_app = import_from_string(self.app)\n",
      "  File \"/Users/dhruvchandel/opt/anaconda3/lib/python3.9/site-packages/uvicorn/importer.py\", line 21, in import_from_string\n",
      "    module = importlib.import_module(module_str)\n",
      "  File \"/Users/dhruvchandel/opt/anaconda3/lib/python3.9/importlib/__init__.py\", line 127, in import_module\n",
      "    return _bootstrap._gcd_import(name[level:], package, level)\n",
      "  File \"<frozen importlib._bootstrap>\", line 1030, in _gcd_import\n",
      "  File \"<frozen importlib._bootstrap>\", line 1007, in _find_and_load\n",
      "  File \"<frozen importlib._bootstrap>\", line 986, in _find_and_load_unlocked\n",
      "  File \"<frozen importlib._bootstrap>\", line 680, in _load_unlocked\n",
      "  File \"<frozen importlib._bootstrap_external>\", line 850, in exec_module\n",
      "  File \"<frozen importlib._bootstrap>\", line 228, in _call_with_frames_removed\n",
      "  File \"/Users/dhruvchandel/Thesis/my-app/app/server.py\", line 14, in <module>\n",
      "    add_routes(app, NotImplemented)\n",
      "  File \"/Users/dhruvchandel/opt/anaconda3/lib/python3.9/site-packages/langserve/server.py\", line 396, in add_routes\n",
      "    raise TypeError(\n",
      "TypeError: Expected a Runnable, got <class 'NotImplementedType'>. The second argument to add_routes should be a Runnable instance.add_route(app, runnable, ...) is the correct usage.Please make sure that you are using a runnable which is an instance of langchain_core.runnables.Runnable.\n"
     ]
    }
   ],
   "source": [
    "# Step 5: Start the LangServe instance\n",
    "subprocess.Popen([\"langchain\", \"serve\"], cwd=\"my-app\")"
   ]
  },
  {
   "cell_type": "code",
   "execution_count": 3,
   "id": "71158a3a",
   "metadata": {},
   "outputs": [
    {
     "ename": "TypeError",
     "evalue": "Can't instantiate abstract class MyRunnable with abstract method invoke",
     "output_type": "error",
     "traceback": [
      "\u001b[0;31m---------------------------------------------------------------------------\u001b[0m",
      "\u001b[0;31mTypeError\u001b[0m                                 Traceback (most recent call last)",
      "\u001b[0;32m/var/folders/pn/xnnk13ln3kq4x3pf22lwzj0m0000gn/T/ipykernel_26958/20595559.py\u001b[0m in \u001b[0;36m<module>\u001b[0;34m\u001b[0m\n\u001b[1;32m     11\u001b[0m \u001b[0;34m\u001b[0m\u001b[0m\n\u001b[1;32m     12\u001b[0m \u001b[0;31m# Create an instance of your Runnable\u001b[0m\u001b[0;34m\u001b[0m\u001b[0;34m\u001b[0m\u001b[0m\n\u001b[0;32m---> 13\u001b[0;31m \u001b[0mrunnable_instance\u001b[0m \u001b[0;34m=\u001b[0m \u001b[0mMyRunnable\u001b[0m\u001b[0;34m(\u001b[0m\u001b[0;34m)\u001b[0m\u001b[0;34m\u001b[0m\u001b[0;34m\u001b[0m\u001b[0m\n\u001b[0m\u001b[1;32m     14\u001b[0m \u001b[0;34m\u001b[0m\u001b[0m\n\u001b[1;32m     15\u001b[0m \u001b[0;31m# Add routes using the runnable instance\u001b[0m\u001b[0;34m\u001b[0m\u001b[0;34m\u001b[0m\u001b[0m\n",
      "\u001b[0;31mTypeError\u001b[0m: Can't instantiate abstract class MyRunnable with abstract method invoke"
     ]
    }
   ],
   "source": [
    "from fastapi import FastAPI\n",
    "from langserve.server import add_routes\n",
    "from langchain_core.runnables import Runnable\n",
    "\n",
    "class MyRunnable(Runnable):\n",
    "    async def run(self, input):\n",
    "        # Your logic here\n",
    "        return {\"message\": \"Hello, World!\"}\n",
    "\n",
    "app = FastAPI()\n",
    "\n",
    "# Create an instance of your Runnable\n",
    "runnable_instance = MyRunnable()\n",
    "\n",
    "# Add routes using the runnable instance\n",
    "add_routes(app, runnable_instance)\n",
    "\n",
    "if __name__ == \"__main__\":\n",
    "    import uvicorn\n",
    "    uvicorn.run(app, host=\"127.0.0.1\", port=8000)\n"
   ]
  },
  {
   "cell_type": "code",
   "execution_count": 7,
   "id": "9e91cbb9",
   "metadata": {},
   "outputs": [],
   "source": [
    "from langserve.client import RemoteRunnable\n",
    "\n",
    "runnable = RemoteRunnable(\"http://localhost:8000/neo4j-cypher-ft\")"
   ]
  },
  {
   "cell_type": "code",
   "execution_count": null,
   "id": "0a5fd66e",
   "metadata": {},
   "outputs": [],
   "source": []
  }
 ],
 "metadata": {
  "kernelspec": {
   "display_name": "Python 3 (ipykernel)",
   "language": "python",
   "name": "python3"
  },
  "language_info": {
   "codemirror_mode": {
    "name": "ipython",
    "version": 3
   },
   "file_extension": ".py",
   "mimetype": "text/x-python",
   "name": "python",
   "nbconvert_exporter": "python",
   "pygments_lexer": "ipython3",
   "version": "3.9.13"
  }
 },
 "nbformat": 4,
 "nbformat_minor": 5
}
