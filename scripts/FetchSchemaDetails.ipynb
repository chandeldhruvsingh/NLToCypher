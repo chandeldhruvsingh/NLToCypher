{
 "cells": [
  {
   "cell_type": "code",
   "execution_count": 8,
   "id": "c1ae5385",
   "metadata": {},
   "outputs": [
    {
     "name": "stdout",
     "output_type": "stream",
     "text": [
      "Collecting ctransformers\n",
      "  Downloading ctransformers-0.2.27-py3-none-any.whl (9.9 MB)\n",
      "\u001b[2K     \u001b[90m━━━━━━━━━━━━━━━━━━━━━━━━━━━━━━━━━━━━━━━━\u001b[0m \u001b[32m9.9/9.9 MB\u001b[0m \u001b[31m30.2 MB/s\u001b[0m eta \u001b[36m0:00:00\u001b[0m00:01\u001b[0m00:01\u001b[0m\n",
      "\u001b[?25hRequirement already satisfied: huggingface-hub in /Users/dhruvchandel/opt/anaconda3/lib/python3.9/site-packages (from ctransformers) (0.24.3)\n",
      "Collecting py-cpuinfo<10.0.0,>=9.0.0\n",
      "  Downloading py_cpuinfo-9.0.0-py3-none-any.whl (22 kB)\n",
      "Requirement already satisfied: typing-extensions>=3.7.4.3 in /Users/dhruvchandel/opt/anaconda3/lib/python3.9/site-packages (from huggingface-hub->ctransformers) (4.12.2)\n",
      "Requirement already satisfied: packaging>=20.9 in /Users/dhruvchandel/opt/anaconda3/lib/python3.9/site-packages (from huggingface-hub->ctransformers) (23.2)\n",
      "Requirement already satisfied: filelock in /Users/dhruvchandel/opt/anaconda3/lib/python3.9/site-packages (from huggingface-hub->ctransformers) (3.13.1)\n",
      "Requirement already satisfied: tqdm>=4.42.1 in /Users/dhruvchandel/opt/anaconda3/lib/python3.9/site-packages (from huggingface-hub->ctransformers) (4.64.1)\n",
      "Requirement already satisfied: requests in /Users/dhruvchandel/opt/anaconda3/lib/python3.9/site-packages (from huggingface-hub->ctransformers) (2.31.0)\n",
      "Requirement already satisfied: fsspec>=2023.5.0 in /Users/dhruvchandel/opt/anaconda3/lib/python3.9/site-packages (from huggingface-hub->ctransformers) (2024.6.1)\n",
      "Requirement already satisfied: pyyaml>=5.1 in /Users/dhruvchandel/opt/anaconda3/lib/python3.9/site-packages (from huggingface-hub->ctransformers) (6.0)\n",
      "Requirement already satisfied: idna<4,>=2.5 in /Users/dhruvchandel/opt/anaconda3/lib/python3.9/site-packages (from requests->huggingface-hub->ctransformers) (3.3)\n",
      "Requirement already satisfied: certifi>=2017.4.17 in /Users/dhruvchandel/opt/anaconda3/lib/python3.9/site-packages (from requests->huggingface-hub->ctransformers) (2022.9.24)\n",
      "Requirement already satisfied: charset-normalizer<4,>=2 in /Users/dhruvchandel/opt/anaconda3/lib/python3.9/site-packages (from requests->huggingface-hub->ctransformers) (2.0.4)\n",
      "Requirement already satisfied: urllib3<3,>=1.21.1 in /Users/dhruvchandel/opt/anaconda3/lib/python3.9/site-packages (from requests->huggingface-hub->ctransformers) (1.26.11)\n",
      "Installing collected packages: py-cpuinfo, ctransformers\n",
      "Successfully installed ctransformers-0.2.27 py-cpuinfo-9.0.0\n"
     ]
    }
   ],
   "source": [
    "!pip install ctransformers"
   ]
  },
  {
   "cell_type": "code",
   "execution_count": 2,
   "id": "379c75e2",
   "metadata": {},
   "outputs": [],
   "source": [
    "from neo4j import GraphDatabase\n",
    "\n",
    "uri = \"neo4j+s://46a80122.databases.neo4j.io:7687\"\n",
    "user = \"<user>\"\n",
    "password = \"<pass>\"\n",
    "\n",
    "driver = GraphDatabase.driver(uri, auth=(user, password))\n",
    "\n",
    "\n"
   ]
  },
  {
   "cell_type": "code",
   "execution_count": 3,
   "id": "f6ddbb7c",
   "metadata": {},
   "outputs": [],
   "source": [
    "def get_schema():\n",
    "    with driver.session() as session:\n",
    "        # Query node labels\n",
    "        labels = session.run(\"CALL db.labels()\").data()\n",
    "        \n",
    "        # Query relationship types\n",
    "        relationships = session.run(\"CALL db.relationshipTypes()\").data()\n",
    "        \n",
    "        # Query property keys\n",
    "        properties = session.run(\"CALL db.propertyKeys()\").data()\n",
    "        \n",
    "        # Get more detailed node information\n",
    "        node_info = session.run(\"\"\"\n",
    "        MATCH (n)\n",
    "        WITH DISTINCT labels(n) AS labels, keys(n) AS properties\n",
    "        RETURN labels, properties\n",
    "        \"\"\").data()\n",
    "        \n",
    "        # Get more detailed relationship information\n",
    "        rel_info = session.run(\"\"\"\n",
    "        MATCH ()-[r]->()\n",
    "        WITH DISTINCT type(r) AS type, keys(r) AS properties\n",
    "        RETURN type, properties\n",
    "        \"\"\").data()\n",
    "        \n",
    "        return {\n",
    "            \"labels\": [label[\"label\"] for label in labels],\n",
    "            \"relationships\": [rel[\"relationshipType\"] for rel in relationships],\n",
    "            \"properties\": [prop[\"propertyKey\"] for prop in properties],\n",
    "            \"node_details\": node_info,\n",
    "            \"relationship_details\": rel_info\n",
    "        }\n",
    "\n",
    "\n"
   ]
  },
  {
   "cell_type": "code",
   "execution_count": 4,
   "id": "b12c456d",
   "metadata": {},
   "outputs": [
    {
     "name": "stdout",
     "output_type": "stream",
     "text": [
      "{'labels': ['Article', 'Code', 'Dataset', 'Software Application'], 'relationships': ['uses', 'provides', 'cites'], 'properties': ['id', 'data', 'name', 'nodes', 'relationships', 'style', 'visualisation', 'url', 'creativeWorkType', 'metadata_url'], 'node_details': [{'labels': ['Article'], 'properties': ['id', 'name', 'url', 'creativeWorkType', 'metadata_url']}, {'labels': ['Code'], 'properties': ['id', 'name', 'url', 'creativeWorkType', 'metadata_url']}, {'labels': ['Dataset'], 'properties': ['id', 'name', 'url', 'creativeWorkType', 'metadata_url']}, {'labels': ['Software Application'], 'properties': ['id', 'name', 'url', 'creativeWorkType', 'metadata_url']}], 'relationship_details': [{'type': 'uses', 'properties': []}, {'type': 'provides', 'properties': []}, {'type': 'cites', 'properties': []}]}\n"
     ]
    }
   ],
   "source": [
    "# Get the schema\n",
    "schema = get_schema()\n",
    "print(schema)\n",
    "\n"
   ]
  },
  {
   "cell_type": "code",
   "execution_count": 5,
   "id": "b30ad9d7",
   "metadata": {},
   "outputs": [],
   "source": [
    "# Don't forget to close the driver when you're done\n",
    "driver.close()"
   ]
  },
  {
   "cell_type": "code",
   "execution_count": 6,
   "id": "43dc5b70",
   "metadata": {},
   "outputs": [
    {
     "name": "stdout",
     "output_type": "stream",
     "text": [
      "Database Schema:\n",
      "\n",
      "Node Labels: Article, Code, Dataset, Software Application\n",
      "\n",
      "Relationship Types: uses, provides, cites\n",
      "\n",
      "Properties: id, data, name, nodes, relationships, style, visualisation, url, creativeWorkType, metadata_url\n",
      "\n",
      "Node Details:\n",
      "  Labels: Article\n",
      "  Properties: id, name, url, creativeWorkType, metadata_url\n",
      "\n",
      "  Labels: Code\n",
      "  Properties: id, name, url, creativeWorkType, metadata_url\n",
      "\n",
      "  Labels: Dataset\n",
      "  Properties: id, name, url, creativeWorkType, metadata_url\n",
      "\n",
      "  Labels: Software Application\n",
      "  Properties: id, name, url, creativeWorkType, metadata_url\n",
      "\n",
      "Relationship Details:\n",
      "  Type: uses\n",
      "  Properties: \n",
      "\n",
      "  Type: provides\n",
      "  Properties: \n",
      "\n",
      "  Type: cites\n",
      "  Properties: \n",
      "\n",
      "\n"
     ]
    }
   ],
   "source": [
    "def schema_to_text(schema):\n",
    "    text = \"Database Schema:\\n\\n\"\n",
    "    text += \"Node Labels: \" + \", \".join(schema[\"labels\"]) + \"\\n\\n\"\n",
    "    text += \"Relationship Types: \" + \", \".join(schema[\"relationships\"]) + \"\\n\\n\"\n",
    "    text += \"Properties: \" + \", \".join(schema[\"properties\"]) + \"\\n\\n\"\n",
    "    \n",
    "    text += \"Node Details:\\n\"\n",
    "    for node in schema[\"node_details\"]:\n",
    "        text += f\"  Labels: {', '.join(node['labels'])}\\n\"\n",
    "        text += f\"  Properties: {', '.join(node['properties'])}\\n\\n\"\n",
    "    \n",
    "    text += \"Relationship Details:\\n\"\n",
    "    for rel in schema[\"relationship_details\"]:\n",
    "        text += f\"  Type: {rel['type']}\\n\"\n",
    "        text += f\"  Properties: {', '.join(rel['properties'])}\\n\\n\"\n",
    "    \n",
    "    return text\n",
    "\n",
    "schema_text = schema_to_text(schema)\n",
    "print(schema_text)"
   ]
  },
  {
   "cell_type": "code",
   "execution_count": null,
   "id": "dc48ba7c",
   "metadata": {},
   "outputs": [],
   "source": []
  }
 ],
 "metadata": {
  "kernelspec": {
   "display_name": "Python 3 (ipykernel)",
   "language": "python",
   "name": "python3"
  },
  "language_info": {
   "codemirror_mode": {
    "name": "ipython",
    "version": 3
   },
   "file_extension": ".py",
   "mimetype": "text/x-python",
   "name": "python",
   "nbconvert_exporter": "python",
   "pygments_lexer": "ipython3",
   "version": "3.9.13"
  }
 },
 "nbformat": 4,
 "nbformat_minor": 5
}
