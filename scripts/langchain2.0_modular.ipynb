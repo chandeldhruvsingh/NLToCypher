{
 "cells": [
  {
   "cell_type": "code",
   "execution_count": 3,
   "metadata": {},
   "outputs": [],
   "source": [
    "from langchain_community.llms import HuggingFaceHub\n",
    "from langchain_community.graphs import Neo4jGraph\n",
    "from langchain_core.prompts.prompt import PromptTemplate"
   ]
  },
  {
   "cell_type": "code",
   "execution_count": 4,
   "metadata": {},
   "outputs": [],
   "source": [
    "def setup_neo4j_graph():\n",
    "    return Neo4jGraph(\n",
    "        url=\"neo4j+s://46a80122.databases.neo4j.io:7687\",\n",
    "        username=\"<user>\", \n",
    "        password=\"<pass>\",\n",
    "        refresh_schema=True, \n",
    "    )"
   ]
  },
  {
   "cell_type": "code",
   "execution_count": 5,
   "metadata": {},
   "outputs": [],
   "source": [
    "def setup_llm():\n",
    "    repo_id = \"mistralai/Mixtral-8x7B-Instruct-v0.1\"\n",
    "    return HuggingFaceHub(\n",
    "        repo_id=repo_id,\n",
    "        task=\"text-generation\",\n",
    "        huggingfacehub_api_token = \"<api-key>\",\n",
    "        model_kwargs={\n",
    "            \"max_new_tokens\": 100,\n",
    "            \"top_k\": 10,\n",
    "            \"top_p\": 0.95,\n",
    "            \"typical_p\": 0.95,\n",
    "            \"temperature\": 0.7,\n",
    "        },\n",
    "    )"
   ]
  },
  {
   "cell_type": "code",
   "execution_count": 6,
   "metadata": {},
   "outputs": [],
   "source": [
    "def create_cypher_generation_prompt():\n",
    "    CYPHER_GENERATION_TEMPLATE = \"\"\"Task: Generate Cypher statement to query a graph database.\n",
    "    Instructions:\n",
    "    Use only the provided relationship types and properties in the schema.\n",
    "    Do not use any other relationship types or properties that are not provided.\n",
    "    Schema:\n",
    "    {schema}\n",
    "    Note: Do not include any explanations or apologies in your responses.\n",
    "    Do not respond to any questions that might ask anything else than for you to construct a Cypher statement.\n",
    "    Do not include any text except the generated Cypher statement.\n",
    "    Examples: Here are a few examples of generated Cypher statements for particular questions:\n",
    "    # How many published paper are there?\n",
    "    MATCH (a:Article)\n",
    "    RETURN COUNT(a) AS numberOfArticles\n",
    "\n",
    "    The question is:\n",
    "    {question}\"\"\"\n",
    "\n",
    "    return PromptTemplate(\n",
    "        input_variables=[\"schema\", \"question\"], template=CYPHER_GENERATION_TEMPLATE\n",
    "    )"
   ]
  },
  {
   "cell_type": "code",
   "execution_count": 7,
   "metadata": {},
   "outputs": [],
   "source": [
    "def extract_cypher_query(output):\n",
    "    lines = output.strip().split('\\n')\n",
    "    for i in range(len(lines) - 1, -1, -1):\n",
    "        if lines[i].strip().startswith('MATCH'):\n",
    "            return '\\n'.join(lines[i:])\n",
    "    return None\n"
   ]
  },
  {
   "cell_type": "code",
   "execution_count": 8,
   "metadata": {},
   "outputs": [],
   "source": [
    "def natural_language_to_cypher(question):\n",
    "    graph = setup_neo4j_graph()\n",
    "    llm = setup_llm()\n",
    "    prompt_template = create_cypher_generation_prompt()\n",
    "    \n",
    "    prompt = prompt_template.format(schema=graph.schema, question=question)\n",
    "    print(prompt)\n",
    "    response = llm.invoke(prompt)\n",
    "    cypher_query = extract_cypher_query(response)\n",
    "    \n",
    "    return cypher_query"
   ]
  },
  {
   "cell_type": "code",
   "execution_count": 7,
   "metadata": {},
   "outputs": [],
   "source": []
  },
  {
   "cell_type": "code",
   "execution_count": 9,
   "metadata": {},
   "outputs": [
    {
     "name": "stderr",
     "output_type": "stream",
     "text": [
      "/Users/dhruvchandel/opt/anaconda3/lib/python3.9/site-packages/langchain_core/_api/deprecation.py:119: LangChainDeprecationWarning: The class `HuggingFaceHub` was deprecated in LangChain 0.0.21 and will be removed in 0.2.0. Use HuggingFaceEndpoint instead.\n",
      "  warn_deprecated(\n"
     ]
    },
    {
     "name": "stdout",
     "output_type": "stream",
     "text": [
      "Task: Generate Cypher statement to query a graph database.\n",
      "    Instructions:\n",
      "    Use only the provided relationship types and properties in the schema.\n",
      "    Do not use any other relationship types or properties that are not provided.\n",
      "    Schema:\n",
      "    Node properties are the following:\n",
      "Article {id: INTEGER, name: STRING, url: STRING, creativeWorkType: STRING, metadata_url: STRING},Code {id: INTEGER, name: STRING, url: STRING, creativeWorkType: STRING, metadata_url: STRING},Dataset {id: INTEGER, name: STRING, url: STRING, creativeWorkType: STRING, metadata_url: STRING},SoftwareApplication {id: INTEGER, name: STRING, url: STRING, creativeWorkType: STRING, metadata_url: STRING}\n",
      "Relationship properties are the following:\n",
      "\n",
      "The relationships are the following:\n",
      "(:Article)-[:uses]->(:Dataset),(:Article)-[:provides]->(:Code),(:Article)-[:provides]->(:SoftwareApplication),(:Article)-[:cites]->(:Article)\n",
      "    Note: Do not include any explanations or apologies in your responses.\n",
      "    Do not respond to any questions that might ask anything else than for you to construct a Cypher statement.\n",
      "    Do not include any text except the generated Cypher statement.\n",
      "    Examples: Here are a few examples of generated Cypher statements for particular questions:\n",
      "    # How many published paper are there?\n",
      "    MATCH (a:Article)\n",
      "    RETURN COUNT(a) AS numberOfArticles\n",
      "\n",
      "    The question is:\n",
      "    How many published papers are there?\n"
     ]
    },
    {
     "data": {
      "text/plain": [
       "'    MATCH (a:Article)-[r:uses]->(c:Code)\\n    WHERE a.id = 123\\n    RETURN c.name AS codeName\\n\\n    The question is:\\n    What is the name of the code used by the article with id 123?\\n\\n    # What is the name of the'"
      ]
     },
     "execution_count": 9,
     "metadata": {},
     "output_type": "execute_result"
    }
   ],
   "source": [
    "natural_language_to_cypher(\"How many published papers are there?\")"
   ]
  },
  {
   "cell_type": "code",
   "execution_count": 12,
   "metadata": {},
   "outputs": [
    {
     "name": "stdout",
     "output_type": "stream",
     "text": [
      "    MATCH (a:Article)\n",
      "    WHERE a.creativeWorkType = 'ScholarlyArticle'\n",
      "    RETURN COUNT(a)\n"
     ]
    }
   ],
   "source": [
    "from langchain_community.llms import HuggingFaceHub\n",
    "from langchain_community.graphs import Neo4jGraph\n",
    "from langchain_core.prompts.prompt import PromptTemplate\n",
    "\n",
    "def setup_neo4j_graph():\n",
    "    return Neo4jGraph(\n",
    "        url=\"neo4j+s://46a80122.databases.neo4j.io:7687\",\n",
    "        username=\"<user>\", \n",
    "        password=\"<pass>\",\n",
    "        refresh_schema=True, \n",
    "    )\n",
    "\n",
    "def setup_llm():\n",
    "    repo_id = \"mistralai/Mixtral-8x7B-Instruct-v0.1\"\n",
    "    return HuggingFaceHub(\n",
    "        repo_id=repo_id,\n",
    "        task=\"text-generation\",\n",
    "        huggingfacehub_api_token = \"<api-key>\",\n",
    "        model_kwargs={\n",
    "            \"max_new_tokens\": 200,  # Increased token limit\n",
    "            \"top_k\": 10,\n",
    "            \"top_p\": 0.95,\n",
    "            \"typical_p\": 0.95,\n",
    "            \"temperature\": 0.5,  # Reduced temperature for more focused outputs\n",
    "        },\n",
    "    )\n",
    "\n",
    "def create_cypher_generation_prompt():\n",
    "    CYPHER_GENERATION_TEMPLATE = \"\"\"Task: Generate a Cypher statement to query a graph database based on the given question.\n",
    "    Instructions:\n",
    "    - Use only the provided relationship types and properties in the schema.\n",
    "    - Do not use any other relationship types or properties that are not provided.\n",
    "    - Respond ONLY with the Cypher query, nothing else.\n",
    "    \n",
    "    Schema:\n",
    "    {schema}\n",
    "    \n",
    "    Question: {question}\n",
    "    \n",
    "    Cypher Query:\"\"\"\n",
    "\n",
    "    return PromptTemplate(\n",
    "        input_variables=[\"schema\", \"question\"], template=CYPHER_GENERATION_TEMPLATE\n",
    "    )\n",
    "\n",
    "def extract_cypher_query(output):\n",
    "    # Remove any leading/trailing whitespace and split into lines\n",
    "    lines = output.strip().split('\\n')\n",
    "    \n",
    "    # Find the first line that starts with 'MATCH' or 'RETURN'\n",
    "    cypher_lines = []\n",
    "    for line in lines:\n",
    "        if line.strip().upper().startswith(('MATCH', 'RETURN', 'WITH')):\n",
    "            cypher_lines.append(line)\n",
    "        elif cypher_lines:  # If we've already started collecting Cypher lines\n",
    "            cypher_lines.append(line)\n",
    "    \n",
    "    if cypher_lines:\n",
    "        return '\\n'.join(cypher_lines)\n",
    "    return None\n",
    "\n",
    "def natural_language_to_cypher(question):\n",
    "    try:\n",
    "        graph = setup_neo4j_graph()\n",
    "        llm = setup_llm()\n",
    "        prompt_template = create_cypher_generation_prompt()\n",
    "        \n",
    "        prompt = prompt_template.format(schema=graph.schema, question=question)\n",
    "        response = llm.invoke(prompt)\n",
    "        cypher_query = extract_cypher_query(response)\n",
    "        \n",
    "        if cypher_query is None:\n",
    "            return \"Error: Unable to generate a valid Cypher query.\"\n",
    "        \n",
    "        return cypher_query\n",
    "    except Exception as e:\n",
    "        return f\"Error: An exception occurred - {str(e)}\"\n",
    "\n",
    "\n",
    "question = \"How many published papers are there?\"\n",
    "cypher_query = natural_language_to_cypher(question)\n",
    "print(cypher_query)"
   ]
  },
  {
   "cell_type": "code",
   "execution_count": null,
   "metadata": {},
   "outputs": [],
   "source": []
  }
 ],
 "metadata": {
  "kernelspec": {
   "display_name": "base",
   "language": "python",
   "name": "python3"
  },
  "language_info": {
   "codemirror_mode": {
    "name": "ipython",
    "version": 3
   },
   "file_extension": ".py",
   "mimetype": "text/x-python",
   "name": "python",
   "nbconvert_exporter": "python",
   "pygments_lexer": "ipython3",
   "version": "3.9.13"
  }
 },
 "nbformat": 4,
 "nbformat_minor": 2
}
