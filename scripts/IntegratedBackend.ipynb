{
 "cells": [
  {
   "cell_type": "code",
   "execution_count": 1,
   "metadata": {},
   "outputs": [
    {
     "name": "stdout",
     "output_type": "stream",
     "text": [
      "Running on local URL:  http://127.0.0.1:7860\n",
      "\n",
      "To create a public link, set `share=True` in `launch()`.\n"
     ]
    },
    {
     "data": {
      "text/html": [
       "<div><iframe src=\"http://127.0.0.1:7860/\" width=\"100%\" height=\"500\" allow=\"autoplay; camera; microphone; clipboard-read; clipboard-write;\" frameborder=\"0\" allowfullscreen></iframe></div>"
      ],
      "text/plain": [
       "<IPython.core.display.HTML object>"
      ]
     },
     "metadata": {},
     "output_type": "display_data"
    },
    {
     "data": {
      "text/plain": []
     },
     "execution_count": 1,
     "metadata": {},
     "output_type": "execute_result"
    },
    {
     "name": "stdout",
     "output_type": "stream",
     "text": [
      "\n",
      "\n",
      "\u001b[1m> Entering new GraphCypherQAChain chain...\u001b[0m\n",
      "Generated Cypher:\n",
      "\u001b[32;1m\u001b[1;3mMATCH (:Article)-[:cites]->(:Article)-[:uses]->(:Dataset)\n",
      "RETURN COUNT(*)\u001b[0m\n",
      "Full Context:\n",
      "\u001b[32;1m\u001b[1;3m[{'COUNT(*)': 28}]\u001b[0m\n",
      "\n",
      "\u001b[1m> Finished chain.\u001b[0m\n",
      "\n",
      "\n",
      "\u001b[1m> Entering new GraphCypherQAChain chain...\u001b[0m\n",
      "Generated Cypher:\n",
      "\u001b[32;1m\u001b[1;3mMATCH (a:Article)\n",
      "RETURN a.name\n",
      "LIMIT 5;\u001b[0m\n",
      "Full Context:\n",
      "\u001b[32;1m\u001b[1;3m[{'a.name': 'MexPub: Deep Transfer Learning for Metadata Extraction from German Publications'}, {'a.name': 'Automatic recognition of movement patterns in the vojta-therapy using RGB-D data'}, {'a.name': 'EXCITE – A Toolchain to Extract, Match and Publish Open Literature References'}, {'a.name': 'An End-to-End Approach for Extracting and Segmenting High-Variance References from PDF Documents'}, {'a.name': 'ECOL: Early Detection of COVID Lies Using Content, Prior Knowledge and Source Information'}]\u001b[0m\n",
      "\n",
      "\u001b[1m> Finished chain.\u001b[0m\n",
      "\n",
      "\n",
      "\u001b[1m> Entering new GraphCypherQAChain chain...\u001b[0m\n",
      "Generated Cypher:\n",
      "\u001b[32;1m\u001b[1;3mMATCH (:Article)-[:uses]->(d:Dataset)\n",
      "RETURN d.name\n",
      "LIMIT 5;\u001b[0m\n",
      "Full Context:\n",
      "\u001b[32;1m\u001b[1;3m[{'d.name': 'Social Media Sentiments Analysis Dataset'}, {'d.name': 'PII | External Dataset'}, {'d.name': 'IMDB Movie Dataset Till Dec-2023'}, {'d.name': 'LLM: Mistral-7B Instruct texts'}, {'d.name': 'Fake News Detection'}]\u001b[0m\n",
      "\n",
      "\u001b[1m> Finished chain.\u001b[0m\n",
      "\n",
      "\n",
      "\u001b[1m> Entering new GraphCypherQAChain chain...\u001b[0m\n",
      "Generated Cypher:\n",
      "\u001b[32;1m\u001b[1;3mMATCH (:Article)-[:provides]->(c:Code)\n",
      "RETURN c.name\n",
      "LIMIT 5;\u001b[0m\n",
      "Full Context:\n",
      "\u001b[32;1m\u001b[1;3m[{'c.name': 'FAIRDS-SDs'}, {'c.name': 'fc-service'}, {'c.name': 'fdo-manager'}, {'c.name': 'FDOM'}, {'c.name': 'fdom-playground'}]\u001b[0m\n",
      "\n",
      "\u001b[1m> Finished chain.\u001b[0m\n",
      "\n",
      "\n",
      "\u001b[1m> Entering new GraphCypherQAChain chain...\u001b[0m\n",
      "Generated Cypher:\n",
      "\u001b[32;1m\u001b[1;3mMATCH (sa:SoftwareApplication)\n",
      "RETURN sa.name\n",
      "LIMIT 5\u001b[0m\n",
      "Full Context:\n",
      "\u001b[32;1m\u001b[1;3m[{'sa.name': 'Author Name Disambiguation'}, {'sa.name': 'Technology Radar'}, {'sa.name': 'FDO Manager'}, {'sa.name': 'FDO Playground'}, {'sa.name': 'SAT Solver'}]\u001b[0m\n",
      "\n",
      "\u001b[1m> Finished chain.\u001b[0m\n",
      "\n",
      "\n",
      "\u001b[1m> Entering new GraphCypherQAChain chain...\u001b[0m\n",
      "Generated Cypher:\n",
      "\u001b[32;1m\u001b[1;3mMATCH (:Article)-[:uses]->(:Dataset {name: \"imdb\"})\n",
      "RETURN COUNT(*) > 0\u001b[0m\n",
      "Full Context:\n",
      "\u001b[32;1m\u001b[1;3m[{'COUNT(*) > 0': False}]\u001b[0m\n",
      "\n",
      "\u001b[1m> Finished chain.\u001b[0m\n",
      "\n",
      "\n",
      "\u001b[1m> Entering new GraphCypherQAChain chain...\u001b[0m\n"
     ]
    },
    {
     "name": "stderr",
     "output_type": "stream",
     "text": [
      "Failed to write data to connection ResolvedIPv4Address(('34.78.76.49', 7687)) (ResolvedIPv4Address(('34.78.76.49', 7687)))\n"
     ]
    },
    {
     "name": "stdout",
     "output_type": "stream",
     "text": [
      "Generated Cypher:\n",
      "\u001b[32;1m\u001b[1;3mMATCH (:Article)-[:uses]->(:Dataset)\n",
      "RETURN COUNT(*) as num_articles_using_dataset\u001b[0m\n"
     ]
    },
    {
     "name": "stderr",
     "output_type": "stream",
     "text": [
      "Failed to write data to connection IPv4Address(('46a80122.databases.neo4j.io', 7687)) (ResolvedIPv4Address(('34.78.76.49', 7687)))\n"
     ]
    },
    {
     "name": "stdout",
     "output_type": "stream",
     "text": [
      "Full Context:\n",
      "\u001b[32;1m\u001b[1;3m[{'num_articles_using_dataset': 29}]\u001b[0m\n",
      "\n",
      "\u001b[1m> Finished chain.\u001b[0m\n"
     ]
    }
   ],
   "source": [
    "# Import necessary libraries\n",
    "import gradio as gr\n",
    "from langchain.chains import GraphCypherQAChain\n",
    "from langchain_community.graphs import Neo4jGraph\n",
    "from langchain.chains import LLMChain\n",
    "from langchain_openai import ChatOpenAI\n",
    "\n",
    "# Initialize Neo4j Graph and GraphCypherQAChain\n",
    "graph = Neo4jGraph(url=\"neo4j+s://46a80122.databases.neo4j.io:7687\", username=\"neo4j\", password=\"abcde777\")\n",
    "chain = GraphCypherQAChain.from_llm(\n",
    "    ChatOpenAI(temperature=0, openai_api_key=\"<api-key>\"), \n",
    "    graph=graph, \n",
    "    verbose=True\n",
    ")\n",
    "\n",
    "# Define a function that uses the GraphCypherQAChain to handle user messages\n",
    "def query_knowledge_graph(message, history):\n",
    "    try:\n",
    "        # Get the response from the knowledge graph\n",
    "        response = chain.invoke(message)\n",
    "        \n",
    "        # Extract and return only the result part of the response\n",
    "        # Assuming response is a dictionary with 'result' key containing the actual output\n",
    "        result = response.get(\"result\", \"No result found\")  # Adjust this extraction based on the actual structure of the response\n",
    "        return str(result)\n",
    "    except Exception as e:\n",
    "        return f\"An error occurred: {e}\"\n",
    "\n",
    "# Set up the Gradio Chat Interface with the new query function\n",
    "gr.ChatInterface(query_knowledge_graph).launch()\n"
   ]
  }
 ],
 "metadata": {
  "kernelspec": {
   "display_name": "base",
   "language": "python",
   "name": "python3"
  },
  "language_info": {
   "codemirror_mode": {
    "name": "ipython",
    "version": 3
   },
   "file_extension": ".py",
   "mimetype": "text/x-python",
   "name": "python",
   "nbconvert_exporter": "python",
   "pygments_lexer": "ipython3",
   "version": "3.9.13"
  }
 },
 "nbformat": 4,
 "nbformat_minor": 2
}
